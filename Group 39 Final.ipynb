{
 "cells": [
  {
   "cell_type": "code",
   "execution_count": 4,
   "id": "8aba038c",
   "metadata": {},
   "outputs": [
    {
     "data": {
      "text/plain": [
       "'This is a Code Cell'"
      ]
     },
     "execution_count": 4,
     "metadata": {},
     "output_type": "execute_result"
    }
   ],
   "source": [
    "import pandas as pd\n",
    "'''This is a Code Cell'''"
   ]
  },
  {
   "cell_type": "code",
   "execution_count": 5,
   "id": "58b797ed",
   "metadata": {},
   "outputs": [
    {
     "data": {
      "text/html": [
       "<div>\n",
       "<style scoped>\n",
       "    .dataframe tbody tr th:only-of-type {\n",
       "        vertical-align: middle;\n",
       "    }\n",
       "\n",
       "    .dataframe tbody tr th {\n",
       "        vertical-align: top;\n",
       "    }\n",
       "\n",
       "    .dataframe thead th {\n",
       "        text-align: right;\n",
       "    }\n",
       "</style>\n",
       "<table border=\"1\" class=\"dataframe\">\n",
       "  <thead>\n",
       "    <tr style=\"text-align: right;\">\n",
       "      <th></th>\n",
       "      <th>0</th>\n",
       "      <th>1</th>\n",
       "      <th>2</th>\n",
       "      <th>3</th>\n",
       "      <th>4</th>\n",
       "      <th>5</th>\n",
       "      <th>6</th>\n",
       "      <th>7</th>\n",
       "      <th>8</th>\n",
       "      <th>9</th>\n",
       "    </tr>\n",
       "  </thead>\n",
       "  <tbody>\n",
       "    <tr>\n",
       "      <th>0</th>\n",
       "      <td>name</td>\n",
       "      <td>state</td>\n",
       "      <td>state_code</td>\n",
       "      <td>type</td>\n",
       "      <td>degree_length</td>\n",
       "      <td>room_and_board</td>\n",
       "      <td>in_state_tuition</td>\n",
       "      <td>in_state_total</td>\n",
       "      <td>out_of_state_tuition</td>\n",
       "      <td>out_of_state_total</td>\n",
       "    </tr>\n",
       "    <tr>\n",
       "      <th>1</th>\n",
       "      <td>Aaniiih Nakoda College</td>\n",
       "      <td>Montana</td>\n",
       "      <td>MT</td>\n",
       "      <td>Public</td>\n",
       "      <td>2 Year</td>\n",
       "      <td>NaN</td>\n",
       "      <td>2380</td>\n",
       "      <td>2380</td>\n",
       "      <td>2380</td>\n",
       "      <td>2380</td>\n",
       "    </tr>\n",
       "    <tr>\n",
       "      <th>2</th>\n",
       "      <td>Abilene Christian University</td>\n",
       "      <td>Texas</td>\n",
       "      <td>TX</td>\n",
       "      <td>Private</td>\n",
       "      <td>4 Year</td>\n",
       "      <td>10350</td>\n",
       "      <td>34850</td>\n",
       "      <td>45200</td>\n",
       "      <td>34850</td>\n",
       "      <td>45200</td>\n",
       "    </tr>\n",
       "    <tr>\n",
       "      <th>3</th>\n",
       "      <td>Abraham Baldwin Agricultural College</td>\n",
       "      <td>Georgia</td>\n",
       "      <td>GA</td>\n",
       "      <td>Public</td>\n",
       "      <td>2 Year</td>\n",
       "      <td>8474</td>\n",
       "      <td>4128</td>\n",
       "      <td>12602</td>\n",
       "      <td>12550</td>\n",
       "      <td>21024</td>\n",
       "    </tr>\n",
       "    <tr>\n",
       "      <th>4</th>\n",
       "      <td>Academy College</td>\n",
       "      <td>Minnesota</td>\n",
       "      <td>MN</td>\n",
       "      <td>For Profit</td>\n",
       "      <td>2 Year</td>\n",
       "      <td>NaN</td>\n",
       "      <td>17661</td>\n",
       "      <td>17661</td>\n",
       "      <td>17661</td>\n",
       "      <td>17661</td>\n",
       "    </tr>\n",
       "  </tbody>\n",
       "</table>\n",
       "</div>"
      ],
      "text/plain": [
       "                                      0          1           2           3  \\\n",
       "0                                  name      state  state_code        type   \n",
       "1                Aaniiih Nakoda College    Montana          MT      Public   \n",
       "2          Abilene Christian University      Texas          TX     Private   \n",
       "3  Abraham Baldwin Agricultural College    Georgia          GA      Public   \n",
       "4                       Academy College  Minnesota          MN  For Profit   \n",
       "\n",
       "               4               5                 6               7  \\\n",
       "0  degree_length  room_and_board  in_state_tuition  in_state_total   \n",
       "1         2 Year             NaN              2380            2380   \n",
       "2         4 Year           10350             34850           45200   \n",
       "3         2 Year            8474              4128           12602   \n",
       "4         2 Year             NaN             17661           17661   \n",
       "\n",
       "                      8                   9  \n",
       "0  out_of_state_tuition  out_of_state_total  \n",
       "1                  2380                2380  \n",
       "2                 34850               45200  \n",
       "3                 12550               21024  \n",
       "4                 17661               17661  "
      ]
     },
     "execution_count": 5,
     "metadata": {},
     "output_type": "execute_result"
    }
   ],
   "source": [
    "tuition = pd.read_csv('tuition_cost.csv', header = None)\n",
    "tuition.head()"
   ]
  },
  {
   "cell_type": "markdown",
   "id": "93b8964e",
   "metadata": {},
   "source": [
    "This is a Text Cell"
   ]
  }
 ],
 "metadata": {
  "kernelspec": {
   "display_name": "Python 3.10.8 64-bit (microsoft store)",
   "language": "python",
   "name": "python3"
  },
  "language_info": {
   "codemirror_mode": {
    "name": "ipython",
    "version": 3
   },
   "file_extension": ".py",
   "mimetype": "text/x-python",
   "name": "python",
   "nbconvert_exporter": "python",
   "pygments_lexer": "ipython3",
   "version": "3.10.8"
  },
  "vscode": {
   "interpreter": {
    "hash": "471bc6c152b1e0eea8f34b149ecc775a9770463584ab44ff81bff4266dd71601"
   }
  }
 },
 "nbformat": 4,
 "nbformat_minor": 5
}
